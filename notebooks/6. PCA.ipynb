{
 "cells": [
  {
   "cell_type": "markdown",
   "id": "cf77886c-7d8a-4a5e-acfd-ad8f33c71b6d",
   "metadata": {},
   "source": [
    "Luego de realizar le one-hot-encoding de 110 columnas pase a 190 por lo que considero que puede ser beneficioso para mi clustering realizar un PCA para asi retener la mayor cantidad de varianza en los datos."
   ]
  },
  {
   "cell_type": "code",
   "execution_count": 33,
   "id": "6cb7c91a-d65e-4a99-a02b-938c02a12fc4",
   "metadata": {},
   "outputs": [],
   "source": [
    "import pandas as pd\n",
    "import matplotlib.pyplot as plt\n",
    "import seaborn as sns\n",
    "import numpy as np\n",
    "from sklearn.impute import SimpleImputer\n",
    "from sklearn import linear_model \n",
    "from sklearn.model_selection import train_test_split\n",
    "from sklearn import metrics\n",
    "from sklearn import preprocessing\n",
    "from sklearn.model_selection import GridSearchCV\n",
    "from matplotlib import pyplot as plt\n",
    "from sklearn.metrics import make_scorer\n",
    "from sklearn.metrics import accuracy_score\n",
    "from sklearn import tree\n",
    "from sklearn.preprocessing import scale, StandardScaler, OneHotEncoder\n",
    "import sklearn\n",
    "from sklearn.decomposition import PCA\n",
    "from sklearn.impute import KNNImputer"
   ]
  },
  {
   "cell_type": "code",
   "execution_count": 49,
   "id": "84386447-ee25-4086-ad71-f907e6546c88",
   "metadata": {},
   "outputs": [
    {
     "data": {
      "text/html": [
       "<div>\n",
       "<style scoped>\n",
       "    .dataframe tbody tr th:only-of-type {\n",
       "        vertical-align: middle;\n",
       "    }\n",
       "\n",
       "    .dataframe tbody tr th {\n",
       "        vertical-align: top;\n",
       "    }\n",
       "\n",
       "    .dataframe thead th {\n",
       "        text-align: right;\n",
       "    }\n",
       "</style>\n",
       "<table border=\"1\" class=\"dataframe\">\n",
       "  <thead>\n",
       "    <tr style=\"text-align: right;\">\n",
       "      <th></th>\n",
       "      <th>esg_score21</th>\n",
       "      <th>esg_class21</th>\n",
       "      <th>environ_score21</th>\n",
       "      <th>environ_class21</th>\n",
       "      <th>social_score21</th>\n",
       "      <th>social_class21</th>\n",
       "      <th>govern_score21</th>\n",
       "      <th>govern_class21</th>\n",
       "      <th>turnover21</th>\n",
       "      <th>firm_age</th>\n",
       "      <th>...</th>\n",
       "      <th>sectors_Metals &amp; Metal Products</th>\n",
       "      <th>sectors_Public Administration, Education, Health Social Services</th>\n",
       "      <th>sectors_Retail</th>\n",
       "      <th>sectors_Transport Manufacturing</th>\n",
       "      <th>sectors_Utilities</th>\n",
       "      <th>audit_status21_Audit n.a.</th>\n",
       "      <th>audit_status21_Missing</th>\n",
       "      <th>audit_status21_No auditado</th>\n",
       "      <th>audit_status21_Salvedades</th>\n",
       "      <th>audit_status21_Sin opinión</th>\n",
       "    </tr>\n",
       "  </thead>\n",
       "  <tbody>\n",
       "    <tr>\n",
       "      <th>0</th>\n",
       "      <td>-0.569247</td>\n",
       "      <td>-0.345854</td>\n",
       "      <td>-1.721908</td>\n",
       "      <td>-0.231856</td>\n",
       "      <td>-1.041523</td>\n",
       "      <td>-0.34062</td>\n",
       "      <td>0.656902</td>\n",
       "      <td>0.766337</td>\n",
       "      <td>1.061682</td>\n",
       "      <td>-1.131157</td>\n",
       "      <td>...</td>\n",
       "      <td>-0.306401</td>\n",
       "      <td>-0.029774</td>\n",
       "      <td>-0.326808</td>\n",
       "      <td>-0.241562</td>\n",
       "      <td>-0.212202</td>\n",
       "      <td>-0.288945</td>\n",
       "      <td>-1.366672</td>\n",
       "      <td>-0.022077</td>\n",
       "      <td>-0.156524</td>\n",
       "      <td>-0.016303</td>\n",
       "    </tr>\n",
       "    <tr>\n",
       "      <th>1</th>\n",
       "      <td>0.534502</td>\n",
       "      <td>-0.345854</td>\n",
       "      <td>0.446051</td>\n",
       "      <td>-0.231856</td>\n",
       "      <td>-0.150737</td>\n",
       "      <td>-0.34062</td>\n",
       "      <td>1.204951</td>\n",
       "      <td>0.766337</td>\n",
       "      <td>1.361008</td>\n",
       "      <td>0.050243</td>\n",
       "      <td>...</td>\n",
       "      <td>-0.306401</td>\n",
       "      <td>-0.029774</td>\n",
       "      <td>3.059904</td>\n",
       "      <td>-0.241562</td>\n",
       "      <td>-0.212202</td>\n",
       "      <td>-0.288945</td>\n",
       "      <td>-1.366672</td>\n",
       "      <td>-0.022077</td>\n",
       "      <td>-0.156524</td>\n",
       "      <td>-0.016303</td>\n",
       "    </tr>\n",
       "  </tbody>\n",
       "</table>\n",
       "<p>2 rows × 139 columns</p>\n",
       "</div>"
      ],
      "text/plain": [
       "   esg_score21  esg_class21  environ_score21  environ_class21  social_score21  \\\n",
       "0    -0.569247    -0.345854        -1.721908        -0.231856       -1.041523   \n",
       "1     0.534502    -0.345854         0.446051        -0.231856       -0.150737   \n",
       "\n",
       "   social_class21  govern_score21  govern_class21  turnover21  firm_age  ...  \\\n",
       "0        -0.34062        0.656902        0.766337    1.061682 -1.131157  ...   \n",
       "1        -0.34062        1.204951        0.766337    1.361008  0.050243  ...   \n",
       "\n",
       "   sectors_Metals & Metal Products  \\\n",
       "0                        -0.306401   \n",
       "1                        -0.306401   \n",
       "\n",
       "   sectors_Public Administration, Education, Health Social Services  \\\n",
       "0                                          -0.029774                  \n",
       "1                                          -0.029774                  \n",
       "\n",
       "   sectors_Retail  sectors_Transport Manufacturing  sectors_Utilities  \\\n",
       "0       -0.326808                        -0.241562          -0.212202   \n",
       "1        3.059904                        -0.241562          -0.212202   \n",
       "\n",
       "   audit_status21_Audit n.a.  audit_status21_Missing  \\\n",
       "0                  -0.288945               -1.366672   \n",
       "1                  -0.288945               -1.366672   \n",
       "\n",
       "   audit_status21_No auditado  audit_status21_Salvedades  \\\n",
       "0                   -0.022077                  -0.156524   \n",
       "1                   -0.022077                  -0.156524   \n",
       "\n",
       "   audit_status21_Sin opinión  \n",
       "0                   -0.016303  \n",
       "1                   -0.016303  \n",
       "\n",
       "[2 rows x 139 columns]"
      ]
     },
     "execution_count": 49,
     "metadata": {},
     "output_type": "execute_result"
    }
   ],
   "source": [
    "df = pd.read_csv(\"data_4.csv\")\n",
    "df.head(2)"
   ]
  },
  {
   "cell_type": "markdown",
   "id": "b61cc450-16fa-4dc5-97db-20f55c3bf930",
   "metadata": {},
   "source": [
    "Conozco el numero de componentes que retinen el 90% de la varianza"
   ]
  },
  {
   "cell_type": "markdown",
   "id": "55004ac1-acfa-4bf8-8a83-7f6f5e4b7474",
   "metadata": {},
   "source": [
    "1. Aplico PCA para reducir la dimensionalidad\n",
    "\n",
    "97 componentes retienen aproximadamente el 90% de la varianza del dataset. Esto significa que el PCA ha logrado reducir las 190 columnas originales a 97 componentes principales sin perder mucha info"
   ]
  },
  {
   "cell_type": "code",
   "execution_count": 37,
   "id": "9a131394-d141-4b34-9c0f-b22413e513fa",
   "metadata": {},
   "outputs": [
    {
     "name": "stdout",
     "output_type": "stream",
     "text": [
      "        PC1       PC2       PC3       PC4       PC5       PC6       PC7  \\\n",
      "0 -1.730145  2.902740  3.466206  3.089480  5.778977 -4.770941 -0.704717   \n",
      "1  5.214533  4.420837 -0.304757  0.576945  4.028668 -3.989763  2.221145   \n",
      "2  6.827113 -2.596645  4.463616  0.956746  4.007421 -7.420173 -1.792980   \n",
      "3  2.073856  0.479447  3.396508  2.857976  5.180949 -5.725671  0.094725   \n",
      "4 -0.952218 -1.048936  1.002979 -0.884729  5.575894 -4.269575  1.883823   \n",
      "\n",
      "        PC8       PC9      PC10  \n",
      "0  0.498619 -0.768987  1.623952  \n",
      "1 -1.776959  0.233144 -2.994313  \n",
      "2  0.728080 -0.019304  1.572013  \n",
      "3  0.162521  0.466770  1.402212  \n",
      "4 -0.973628  2.399547 -0.786030  \n",
      "Varianza explicada por cada componente: [0.18634293 0.07239586 0.0511048  0.04342463 0.03348803 0.03039767\n",
      " 0.02582099 0.02270018 0.02066639 0.02002613]\n",
      "Varianza total explicada: 0.5063676108879447\n"
     ]
    }
   ],
   "source": [
    "X = df  \n",
    "pca = PCA(n_components=10)\n",
    "\n",
    "X_pca = pca.fit_transform(X)\n",
    "\n",
    "# Creo un DataFrame con las componentes principales\n",
    "columns_pca = [f'PC{i+1}' for i in range(10)]\n",
    "df_pca = pd.DataFrame(X_pca, columns=columns_pca)\n",
    "\n",
    "# Mostrar el DataFrame con las 10 componentes principales\n",
    "print(df_pca.head())\n",
    "\n",
    "# Verificar la varianza explicada\n",
    "explained_variance = pca.explained_variance_ratio_\n",
    "print(\"Varianza explicada por cada componente:\", explained_variance)\n",
    "print(\"Varianza total explicada:\", sum(explained_variance))"
   ]
  },
  {
   "cell_type": "markdown",
   "id": "04cb7c3c-f0b5-44eb-89c8-9aa0cdbeb230",
   "metadata": {},
   "source": [
    "Primera componente (PC1): Explica el 18.44% de la varianza.\n",
    "Las primeras 10 componentes sumaban un 50.3%, pero al agregar las siguientes 10 componentes, logras retener un 14% adicional.\n",
    "La disminución progresiva de la varianza explicada por cada componente (p.ej., PC1: 18.4%, PC20: 0.98%) es normal, y puedes ver que las últimas componentes agregan menos información"
   ]
  },
  {
   "cell_type": "code",
   "execution_count": 39,
   "id": "204e4abf-98a9-4ff0-b94b-1535fda1d031",
   "metadata": {},
   "outputs": [
    {
     "data": {
      "image/png": "[encoded data removed]",
      "text/plain": [
       "<Figure size 800x500 with 1 Axes>"
      ]
     },
     "metadata": {},
     "output_type": "display_data"
    }
   ],
   "source": [
    "# Simulación de cumulative_variance (varianza acumulada)\n",
    "cumulative_variance = np.cumsum(pca.explained_variance_ratio_)\n",
    "\n",
    "# Ajustar x para coincidir con la longitud de cumulative_variance\n",
    "num_components = len(cumulative_variance)\n",
    "plt.figure(figsize=(8, 5))\n",
    "plt.plot(range(1, num_components + 1), cumulative_variance, marker='o', linestyle='--')\n",
    "\n",
    "# Etiquetas y título\n",
    "plt.title('Varianza acumulada vs. Número de componentes')\n",
    "plt.xlabel('Número de componentes principales')\n",
    "plt.ylabel('Varianza acumulada')\n",
    "plt.grid()\n",
    "\n",
    "plt.show()\n"
   ]
  },
  {
   "cell_type": "markdown",
   "id": "e31e3174-ad5e-4f47-b487-e19b33389aba",
   "metadata": {},
   "source": [
    "Aproximadamente entre 5 y 7 componentes es donde la curva comienza a suavizarse, a partir de ese punto agregar más componentes puede no incrementar la varianza explicada"
   ]
  },
  {
   "cell_type": "code",
   "execution_count": 43,
   "id": "700838b6-043a-40cc-8c1a-18af4bbc2fe1",
   "metadata": {},
   "outputs": [
    {
     "name": "stdout",
     "output_type": "stream",
     "text": [
      "El archivo con las componentes principales ha sido guardado como 'componentes_pca.csv'.\n"
     ]
    }
   ],
   "source": [
    "# Guardar el DataFrame reducido en un CSV\n",
    "output_file = 'componentes_pca.csv'\n",
    "df_pca.to_csv(output_file, index=False)\n",
    "print(f\"El archivo con las componentes principales ha sido guardado como '{output_file}'.\")"
   ]
  },
  {
   "cell_type": "markdown",
   "id": "f0887e89-1170-44b5-9a67-29eca49f6313",
   "metadata": {},
   "source": [
    "Para entender la relación entre las columnas originales y las componentes principales, guardo la matriz de componentes.\n",
    "Los loadings indican cuánto contribuye cada variable original a cada componente principal. Son fundamentales para interpretar qué representan las PCs."
   ]
  },
  {
   "cell_type": "code",
   "execution_count": 29,
   "id": "03d7163d-3cd4-4447-866f-4c82bdca8d50",
   "metadata": {},
   "outputs": [
    {
     "name": "stdout",
     "output_type": "stream",
     "text": [
      "Matriz de Componentes (Loadings):\n",
      "                 Dimensión 1  Dimensión 2  Dimensión 3  Dimensión 4  \\\n",
      "esg_score21         0.172161    -0.011622     0.023203    -0.023093   \n",
      "esg_class21         0.127519     0.034004     0.016592     0.022418   \n",
      "environ_score21     0.162165     0.039991     0.020477     0.021402   \n",
      "environ_class21     0.104424     0.019769     0.000893     0.028159   \n",
      "social_score21      0.158778    -0.041085     0.015577    -0.041974   \n",
      "\n",
      "                 Dimensión 5  Dimensión 6  Dimensión 7  Dimensión 8  \\\n",
      "esg_score21         0.096087     0.103168    -0.100593     0.052598   \n",
      "esg_class21         0.048059     0.091077    -0.116967     0.020743   \n",
      "environ_score21    -0.028718     0.111068    -0.083924     0.071030   \n",
      "environ_class21     0.005098     0.085165    -0.116611     0.007052   \n",
      "social_score21      0.025023     0.136887    -0.149290     0.025519   \n",
      "\n",
      "                 Dimensión 9  Dimensión 10  \n",
      "esg_score21         0.085959     -0.006068  \n",
      "esg_class21         0.161340     -0.015648  \n",
      "environ_score21     0.145697      0.029410  \n",
      "environ_class21     0.160612     -0.036142  \n",
      "social_score21      0.107564      0.005766  \n",
      "Matriz de componentes PCA guardada como 'pca_componentes_matriz.csv'.\n"
     ]
    }
   ],
   "source": [
    "# Obtener los loadings del PCA\n",
    "pca_loadings = pd.DataFrame(\n",
    "    pca.components_.T,  # Transponer para que las variables sean filas\n",
    "    columns=[f'Dimensión {i+1}' for i in range(pca.n_components_)],  # Nombres de las componentes principales\n",
    "    index=df.columns  # Nombres de las columnas originales\n",
    ")\n",
    "\n",
    "# Mostrar los loadings\n",
    "print(\"Matriz de Componentes (Loadings):\")\n",
    "print(pca_loadings.head())\n",
    "\n",
    "# Guardar la matriz de loadings en CSV\n",
    "output_loadings_file = 'pca_componentes_matriz.csv'\n",
    "pca_loadings.to_csv(output_loadings_file)\n",
    "print(f\"Matriz de componentes PCA guardada como '{output_loadings_file}'.\")\n"
   ]
  }
 ],
 "metadata": {
  "kernelspec": {
   "display_name": "Python 3 (ipykernel)",
   "language": "python",
   "name": "python3"
  },
  "language_info": {
   "codemirror_mode": {
    "name": "ipython",
    "version": 3
   },
   "file_extension": ".py",
   "mimetype": "text/x-python",
   "name": "python",
   "nbconvert_exporter": "python",
   "pygments_lexer": "ipython3",
   "version": "3.12.4"
  }
 },
 "nbformat": 4,
 "nbformat_minor": 5
}
